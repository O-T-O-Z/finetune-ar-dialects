{
 "cells": [
  {
   "cell_type": "markdown",
   "metadata": {},
   "source": [
    "# Dependencies"
   ]
  },
  {
   "cell_type": "code",
   "execution_count": null,
   "metadata": {},
   "outputs": [],
   "source": [
    "!pip install seaborn matplotlib pandas numpy"
   ]
  },
  {
   "cell_type": "code",
   "execution_count": null,
   "metadata": {},
   "outputs": [],
   "source": [
    "import os\n",
    "import matplotlib.pyplot as plt\n",
    "import numpy as np\n",
    "import pandas as pd\n",
    "import seaborn as sns\n",
    "import json"
   ]
  },
  {
   "cell_type": "markdown",
   "metadata": {},
   "source": [
    "# Training Experiment 1"
   ]
  },
  {
   "cell_type": "code",
   "execution_count": null,
   "metadata": {},
   "outputs": [],
   "source": [
    "root = \"results/training_trainsize/\"\n",
    "\n",
    "data = {}\n",
    "for f in os.listdir(root):\n",
    "    if not f.endswith(\".csv\"):\n",
    "        continue\n",
    "    name = \"\".join(f.split(\"_loss_\")).split(\".csv\")[0]\n",
    "    if \"train\" in name:\n",
    "        size = name.split(\"train\")[1]\n",
    "    elif \"eval\" in name:\n",
    "        size = name.split(\"eval\")[1]\n",
    "    with open(os.path.join(root, f), \"r\") as file:\n",
    "        if size not in data:\n",
    "            data[size] = [pd.read_csv(file).drop(columns=[\"Wall time\"])]\n",
    "        else:\n",
    "            data[size].append(pd.read_csv(file).drop(columns=[\"Wall time\"]))\n",
    "# sort by train size\n",
    "data = {k: v for k, v in sorted(data.items(), key=lambda item: int(item[0]))}\n",
    "\n",
    "fig, ax = plt.subplots(2, 3, figsize=(12, 8), sharey=True, sharex=False)\n",
    "for i, (name, l) in enumerate(data.items()):\n",
    "    k = int(i%3)\n",
    "    i = int(i/3)\n",
    "    for df in l:\n",
    "        ax[i][k].plot(df[\"Step\"], df[\"Value\"], label=\"Train\" if len(df) > 5 else \"Validation\")\n",
    "        ax[i][k].legend().remove()\n",
    "        ax[i][k].set_title(f\"Train size: {name}%\")\n",
    "        ax[i][k].grid(True, axis='y')\n",
    "        \n",
    "ax[0][0].set_ylabel(\"Loss\")\n",
    "ax[1][0].set_ylabel(\"Loss\")\n",
    "ax[1][0].set_xlabel(\"Step\")\n",
    "ax[0][2].set_xlabel(\"Step\")\n",
    "ax[0][0].set_xticklabels([])\n",
    "ax[0][1].set_xticklabels([])\n",
    "ax[1][1].set_xlabel(\"Step\")\n",
    "ax[1][2].remove()\n",
    "ax[0][2].legend()\n",
    "fig.suptitle(\"Loss over time per train size\")\n",
    "plt.ylim(bottom=0)\n",
    "plt.tight_layout()\n",
    "plt.savefig(\"results/plots/training_trainsize.pdf\")\n",
    "plt.show()"
   ]
  },
  {
   "cell_type": "markdown",
   "metadata": {},
   "source": [
    "# Training Experiment 2"
   ]
  },
  {
   "cell_type": "code",
   "execution_count": null,
   "metadata": {},
   "outputs": [],
   "source": [
    "root = \"results/training_finetune_scratch/\"\n",
    "\n",
    "data = {}\n",
    "for f in os.listdir(root):\n",
    "    if not f.endswith(\".csv\"):\n",
    "        continue\n",
    "    name = \"\".join(f.split(\"_loss\")).split(\".csv\")[0]\n",
    "    if \"train\" in name:\n",
    "        size = name.split(\"_train\")[0]\n",
    "    elif \"eval\" in name:\n",
    "        size = name.split(\"_eval\")[0]\n",
    "    with open(os.path.join(root, f), \"r\") as file:\n",
    "        if size not in data:\n",
    "            data[size] = [pd.read_csv(file).drop(columns=[\"Wall time\"])]\n",
    "        else:\n",
    "            data[size].append(pd.read_csv(file).drop(columns=[\"Wall time\"]))"
   ]
  },
  {
   "cell_type": "code",
   "execution_count": null,
   "metadata": {},
   "outputs": [],
   "source": [
    "sub_data = {}\n",
    "for k, v in data.items():\n",
    "    if k.startswith(\"dialect\"):\n",
    "        sub_data[k] = v\n",
    "\n",
    "fig, ax = plt.subplots(2, 3, figsize=(12, 8), sharey=True)\n",
    "for i, (name, l) in enumerate(sub_data.items()):\n",
    "    k = int(i%3)\n",
    "    i = int(i/3)\n",
    "    name = name.split(\"_\")[1].title()\n",
    "    for df in l:\n",
    "        ax[i][k].plot(df[\"Step\"], df[\"Value\"], label=\"Train\" if len(df) > 5 else \"Validation\", color=\"C1\" if len(df) > 5 else \"C0\")\n",
    "        ax[i][k].legend().remove()\n",
    "        ax[i][k].set_title(f\"Dialect: {name}\")\n",
    "        ax[i][k].grid(True, axis='y')\n",
    "        \n",
    "ax[0][0].set_ylabel(\"Loss\")\n",
    "ax[1][0].set_ylabel(\"Loss\")\n",
    "ax[1][0].set_xlabel(\"Step\")\n",
    "ax[0][2].set_xlabel(\"Step\")\n",
    "ax[1][1].set_xlabel(\"Step\")\n",
    "ax[0][1].set_xticklabels([])\n",
    "ax[0][0].set_xticklabels([])\n",
    "ax[1][2].remove()\n",
    "ax[0][2].legend()\n",
    "\n",
    "plt.ylim(bottom=0)\n",
    "fig.suptitle(\"Loss over time per dialect (without pre-training)\")\n",
    "plt.tight_layout()\n",
    "plt.savefig(\"results/plots/training_scratch.pdf\")\n",
    "plt.show()"
   ]
  },
  {
   "cell_type": "code",
   "execution_count": null,
   "metadata": {},
   "outputs": [],
   "source": [
    "sub_data = {}\n",
    "for k, v in data.items():\n",
    "    if k.startswith(\"finetune\"):\n",
    "        sub_data[k] = v\n",
    "\n",
    "fig, ax = plt.subplots(2, 3, figsize=(12, 8), sharey=True)\n",
    "for i, (name, l) in enumerate(sub_data.items()):\n",
    "    k = int(i%3)\n",
    "    i = int(i/3)\n",
    "    name = name.split(\"_\")[1].title()\n",
    "    for df in l:\n",
    "        ax[i][k].plot(df[\"Step\"], df[\"Value\"], label=\"Train\" if len(df) > 5 else \"Validation\", color=\"C1\" if len(df) > 5 else \"C0\")\n",
    "        ax[i][k].legend().remove()\n",
    "        ax[i][k].set_title(f\"Dialect: {name}\")\n",
    "        ax[i][k].grid(True, axis='y')\n",
    "        \n",
    "ax[0][0].set_ylabel(\"Loss\")\n",
    "ax[1][0].set_ylabel(\"Loss\")\n",
    "ax[1][0].set_xlabel(\"Step\")\n",
    "ax[0][2].set_xlabel(\"Step\")\n",
    "ax[1][1].set_xlabel(\"Step\")\n",
    "ax[0][1].set_xticklabels([])\n",
    "ax[0][0].set_xticklabels([])\n",
    "ax[1][2].remove()\n",
    "ax[0][2].legend()\n",
    "plt.ylim(bottom=0)\n",
    "fig.suptitle(\"Loss over time per dialect (with pre-training)\")\n",
    "plt.tight_layout()\n",
    "plt.savefig(\"results/plots/training_finetuning.pdf\")\n",
    "plt.show()"
   ]
  },
  {
   "cell_type": "markdown",
   "metadata": {},
   "source": [
    "# Training Experiment 3"
   ]
  },
  {
   "cell_type": "code",
   "execution_count": null,
   "metadata": {},
   "outputs": [],
   "source": [
    "root = \"results/training_all/\"\n",
    "\n",
    "data = {}\n",
    "for f in os.listdir(root):\n",
    "    if not f.endswith(\".csv\"):\n",
    "        continue\n",
    "    name = \"\".join(f.split(\"_loss\")).split(\".csv\")[0]\n",
    "    if \"train\" in name:\n",
    "        size = name.split(\"_train\")[0]\n",
    "    elif \"eval\" in name:\n",
    "        size = name.split(\"_eval\")[0]\n",
    "    with open(os.path.join(root, f), \"r\") as file:\n",
    "        if size not in data:\n",
    "            data[size] = [pd.read_csv(file).drop(columns=[\"Wall time\"])]\n",
    "        else:\n",
    "            data[size].append(pd.read_csv(file).drop(columns=[\"Wall time\"]))"
   ]
  },
  {
   "cell_type": "code",
   "execution_count": null,
   "metadata": {},
   "outputs": [],
   "source": [
    "fig, ax = plt.subplots(1, 2, figsize=(12, 6), sharey=True)\n",
    "for i, (name, l) in enumerate(data.items()):\n",
    "    training = name.split(\"_\")[0].title()\n",
    "    training = \"With pre-training\" if training == \"Finetune\" else \"Without pre-training\"\n",
    "    for df in l:\n",
    "        ax[i].plot(df[\"Step\"], df[\"Value\"], label=\"Train\" if len(df) > 5 else \"Validation\", color=\"C1\" if len(df) > 5 else \"C0\")\n",
    "        ax[i].legend().remove()\n",
    "        ax[i].set_title(f\"{training}\")\n",
    "        ax[i].grid(True, axis='y')\n",
    "        ax[i].set_xlabel(\"Step\")\n",
    "        \n",
    "ax[0].set_ylabel(\"Loss\")\n",
    "ax[1].legend()\n",
    "fig.suptitle(\"Loss over time for pooled dialect data\")\n",
    "plt.ylim(bottom=0)\n",
    "plt.tight_layout()\n",
    "plt.savefig(\"results/plots/training_all.pdf\")\n",
    "plt.show()"
   ]
  }
 ],
 "metadata": {
  "kernelspec": {
   "display_name": "whisper",
   "language": "python",
   "name": "python3"
  },
  "language_info": {
   "codemirror_mode": {
    "name": "ipython",
    "version": 3
   },
   "file_extension": ".py",
   "mimetype": "text/x-python",
   "name": "python",
   "nbconvert_exporter": "python",
   "pygments_lexer": "ipython3",
   "version": "3.11.8"
  }
 },
 "nbformat": 4,
 "nbformat_minor": 2
}
